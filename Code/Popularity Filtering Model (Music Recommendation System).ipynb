{
 "cells": [
  {
   "cell_type": "code",
   "execution_count": 1,
   "metadata": {},
   "outputs": [],
   "source": [
    "# import libraries\n",
    "import numpy as np\n",
    "import pandas as pd\n",
    "\n",
    "from datetime import datetime\n",
    "from sklearn.preprocessing import MinMaxScaler\n",
    "\n",
    "import matplotlib.pyplot as plt\n",
    "import seaborn as sns\n",
    "\n",
    "from matplotlib.lines import Line2D"
   ]
  },
  {
   "cell_type": "code",
   "execution_count": 2,
   "metadata": {},
   "outputs": [],
   "source": [
    "# Reading of Dataset song_data.csv\n",
    "df=pd.read_csv(\"song_data.csv\")\n",
    "len(df[\"song_id\"].unique())\n",
    "df['title']=df['title'].str.upper()"
   ]
  },
  {
   "cell_type": "code",
   "execution_count": 3,
   "metadata": {},
   "outputs": [
    {
     "data": {
      "text/html": [
       "<div>\n",
       "<style scoped>\n",
       "    .dataframe tbody tr th:only-of-type {\n",
       "        vertical-align: middle;\n",
       "    }\n",
       "\n",
       "    .dataframe tbody tr th {\n",
       "        vertical-align: top;\n",
       "    }\n",
       "\n",
       "    .dataframe thead th {\n",
       "        text-align: right;\n",
       "    }\n",
       "</style>\n",
       "<table border=\"1\" class=\"dataframe\">\n",
       "  <thead>\n",
       "    <tr style=\"text-align: right;\">\n",
       "      <th></th>\n",
       "      <th>song_id</th>\n",
       "      <th>title</th>\n",
       "      <th>release</th>\n",
       "      <th>artist_name</th>\n",
       "      <th>year</th>\n",
       "    </tr>\n",
       "  </thead>\n",
       "  <tbody>\n",
       "    <tr>\n",
       "      <th>0</th>\n",
       "      <td>SOQMMHC12AB0180CB8</td>\n",
       "      <td>SILENT NIGHT</td>\n",
       "      <td>Monster Ballads X-Mas</td>\n",
       "      <td>Faster Pussy cat</td>\n",
       "      <td>2003</td>\n",
       "    </tr>\n",
       "    <tr>\n",
       "      <th>1</th>\n",
       "      <td>SOVFVAK12A8C1350D9</td>\n",
       "      <td>TANSSI VAAN</td>\n",
       "      <td>Karkuteillä</td>\n",
       "      <td>Karkkiautomaatti</td>\n",
       "      <td>1995</td>\n",
       "    </tr>\n",
       "    <tr>\n",
       "      <th>2</th>\n",
       "      <td>SOGTUKN12AB017F4F1</td>\n",
       "      <td>NO ONE COULD EVER</td>\n",
       "      <td>Butter</td>\n",
       "      <td>Hudson Mohawke</td>\n",
       "      <td>2006</td>\n",
       "    </tr>\n",
       "    <tr>\n",
       "      <th>3</th>\n",
       "      <td>SOBNYVR12A8C13558C</td>\n",
       "      <td>SI VOS QUERÉS</td>\n",
       "      <td>De Culo</td>\n",
       "      <td>Yerba Brava</td>\n",
       "      <td>2003</td>\n",
       "    </tr>\n",
       "    <tr>\n",
       "      <th>4</th>\n",
       "      <td>SOHSBXH12A8C13B0DF</td>\n",
       "      <td>TANGLE OF ASPENS</td>\n",
       "      <td>Rene Ablaze Presents Winter Sessions</td>\n",
       "      <td>Der Mystic</td>\n",
       "      <td>0</td>\n",
       "    </tr>\n",
       "  </tbody>\n",
       "</table>\n",
       "</div>"
      ],
      "text/plain": [
       "              song_id              title  \\\n",
       "0  SOQMMHC12AB0180CB8       SILENT NIGHT   \n",
       "1  SOVFVAK12A8C1350D9        TANSSI VAAN   \n",
       "2  SOGTUKN12AB017F4F1  NO ONE COULD EVER   \n",
       "3  SOBNYVR12A8C13558C      SI VOS QUERÉS   \n",
       "4  SOHSBXH12A8C13B0DF   TANGLE OF ASPENS   \n",
       "\n",
       "                                release       artist_name  year  \n",
       "0                 Monster Ballads X-Mas  Faster Pussy cat  2003  \n",
       "1                           Karkuteillä  Karkkiautomaatti  1995  \n",
       "2                                Butter    Hudson Mohawke  2006  \n",
       "3                               De Culo       Yerba Brava  2003  \n",
       "4  Rene Ablaze Presents Winter Sessions        Der Mystic     0  "
      ]
     },
     "execution_count": 3,
     "metadata": {},
     "output_type": "execute_result"
    }
   ],
   "source": [
    "df.head()"
   ]
  },
  {
   "cell_type": "code",
   "execution_count": 4,
   "metadata": {},
   "outputs": [
    {
     "data": {
      "text/plain": [
       "(1000000, 5)"
      ]
     },
     "execution_count": 4,
     "metadata": {},
     "output_type": "execute_result"
    }
   ],
   "source": [
    "df.shape"
   ]
  },
  {
   "cell_type": "code",
   "execution_count": 5,
   "metadata": {},
   "outputs": [],
   "source": [
    "# Reading of Dataset 10000.txt\n",
    "df1=pd.read_csv(\"10000.txt\",sep=\"\\t\",names=[\"user_id\", \"song_id\",\"count\"])"
   ]
  },
  {
   "cell_type": "code",
   "execution_count": 6,
   "metadata": {},
   "outputs": [
    {
     "data": {
      "text/html": [
       "<div>\n",
       "<style scoped>\n",
       "    .dataframe tbody tr th:only-of-type {\n",
       "        vertical-align: middle;\n",
       "    }\n",
       "\n",
       "    .dataframe tbody tr th {\n",
       "        vertical-align: top;\n",
       "    }\n",
       "\n",
       "    .dataframe thead th {\n",
       "        text-align: right;\n",
       "    }\n",
       "</style>\n",
       "<table border=\"1\" class=\"dataframe\">\n",
       "  <thead>\n",
       "    <tr style=\"text-align: right;\">\n",
       "      <th></th>\n",
       "      <th>user_id</th>\n",
       "      <th>song_id</th>\n",
       "      <th>count</th>\n",
       "    </tr>\n",
       "  </thead>\n",
       "  <tbody>\n",
       "    <tr>\n",
       "      <th>0</th>\n",
       "      <td>b80344d063b5ccb3212f76538f3d9e43d87dca9e</td>\n",
       "      <td>SOAKIMP12A8C130995</td>\n",
       "      <td>1</td>\n",
       "    </tr>\n",
       "    <tr>\n",
       "      <th>1</th>\n",
       "      <td>b80344d063b5ccb3212f76538f3d9e43d87dca9e</td>\n",
       "      <td>SOBBMDR12A8C13253B</td>\n",
       "      <td>2</td>\n",
       "    </tr>\n",
       "    <tr>\n",
       "      <th>2</th>\n",
       "      <td>b80344d063b5ccb3212f76538f3d9e43d87dca9e</td>\n",
       "      <td>SOBXHDL12A81C204C0</td>\n",
       "      <td>1</td>\n",
       "    </tr>\n",
       "    <tr>\n",
       "      <th>3</th>\n",
       "      <td>b80344d063b5ccb3212f76538f3d9e43d87dca9e</td>\n",
       "      <td>SOBYHAJ12A6701BF1D</td>\n",
       "      <td>1</td>\n",
       "    </tr>\n",
       "    <tr>\n",
       "      <th>4</th>\n",
       "      <td>b80344d063b5ccb3212f76538f3d9e43d87dca9e</td>\n",
       "      <td>SODACBL12A8C13C273</td>\n",
       "      <td>1</td>\n",
       "    </tr>\n",
       "  </tbody>\n",
       "</table>\n",
       "</div>"
      ],
      "text/plain": [
       "                                    user_id             song_id  count\n",
       "0  b80344d063b5ccb3212f76538f3d9e43d87dca9e  SOAKIMP12A8C130995      1\n",
       "1  b80344d063b5ccb3212f76538f3d9e43d87dca9e  SOBBMDR12A8C13253B      2\n",
       "2  b80344d063b5ccb3212f76538f3d9e43d87dca9e  SOBXHDL12A81C204C0      1\n",
       "3  b80344d063b5ccb3212f76538f3d9e43d87dca9e  SOBYHAJ12A6701BF1D      1\n",
       "4  b80344d063b5ccb3212f76538f3d9e43d87dca9e  SODACBL12A8C13C273      1"
      ]
     },
     "execution_count": 6,
     "metadata": {},
     "output_type": "execute_result"
    }
   ],
   "source": [
    "df1.head()"
   ]
  },
  {
   "cell_type": "code",
   "execution_count": 7,
   "metadata": {},
   "outputs": [
    {
     "data": {
      "text/plain": [
       "(2086946, 7)"
      ]
     },
     "execution_count": 7,
     "metadata": {},
     "output_type": "execute_result"
    }
   ],
   "source": [
    "# Merge Two datasets to create one\n",
    "dataset = pd.merge(df,df1,how=\"inner\",on='song_id')\n",
    "dataset.shape"
   ]
  },
  {
   "cell_type": "code",
   "execution_count": 8,
   "metadata": {},
   "outputs": [],
   "source": [
    "# Drop Duplicates\n",
    "dataset  = dataset.drop_duplicates().reset_index()"
   ]
  },
  {
   "cell_type": "code",
   "execution_count": 9,
   "metadata": {},
   "outputs": [
    {
     "data": {
      "text/plain": [
       "(1677154, 8)"
      ]
     },
     "execution_count": 9,
     "metadata": {},
     "output_type": "execute_result"
    }
   ],
   "source": [
    "# Taking only those enteries whose year of release is greater than 1900\n",
    "dataset = dataset[dataset['year']>=1900]\n",
    "dataset.shape"
   ]
  },
  {
   "cell_type": "code",
   "execution_count": 10,
   "metadata": {},
   "outputs": [
    {
     "data": {
      "text/html": [
       "<div>\n",
       "<style scoped>\n",
       "    .dataframe tbody tr th:only-of-type {\n",
       "        vertical-align: middle;\n",
       "    }\n",
       "\n",
       "    .dataframe tbody tr th {\n",
       "        vertical-align: top;\n",
       "    }\n",
       "\n",
       "    .dataframe thead th {\n",
       "        text-align: right;\n",
       "    }\n",
       "</style>\n",
       "<table border=\"1\" class=\"dataframe\">\n",
       "  <thead>\n",
       "    <tr style=\"text-align: right;\">\n",
       "      <th></th>\n",
       "      <th>index</th>\n",
       "      <th>song_id</th>\n",
       "      <th>title</th>\n",
       "      <th>release</th>\n",
       "      <th>artist_name</th>\n",
       "      <th>year</th>\n",
       "      <th>user_id</th>\n",
       "      <th>count</th>\n",
       "    </tr>\n",
       "  </thead>\n",
       "  <tbody>\n",
       "    <tr>\n",
       "      <th>0</th>\n",
       "      <td>0</td>\n",
       "      <td>SOSZNRJ12A8AE46E38</td>\n",
       "      <td>ANYONE ELSE BUT YOU</td>\n",
       "      <td>Juno - Music From The Motion Picture</td>\n",
       "      <td>Michael Cera &amp; Ellen Page</td>\n",
       "      <td>2007</td>\n",
       "      <td>d6589314c0a9bcbca4fee0c93b14bc402363afea</td>\n",
       "      <td>6</td>\n",
       "    </tr>\n",
       "    <tr>\n",
       "      <th>1</th>\n",
       "      <td>1</td>\n",
       "      <td>SOSZNRJ12A8AE46E38</td>\n",
       "      <td>ANYONE ELSE BUT YOU</td>\n",
       "      <td>Juno - Music From The Motion Picture</td>\n",
       "      <td>Michael Cera &amp; Ellen Page</td>\n",
       "      <td>2007</td>\n",
       "      <td>484b69dd013df1ec0cfd504886d4f647cb32b08f</td>\n",
       "      <td>1</td>\n",
       "    </tr>\n",
       "    <tr>\n",
       "      <th>2</th>\n",
       "      <td>2</td>\n",
       "      <td>SOSZNRJ12A8AE46E38</td>\n",
       "      <td>ANYONE ELSE BUT YOU</td>\n",
       "      <td>Juno - Music From The Motion Picture</td>\n",
       "      <td>Michael Cera &amp; Ellen Page</td>\n",
       "      <td>2007</td>\n",
       "      <td>3f9ed694a79835c921ef6d94acd28f876c1d901e</td>\n",
       "      <td>4</td>\n",
       "    </tr>\n",
       "    <tr>\n",
       "      <th>3</th>\n",
       "      <td>3</td>\n",
       "      <td>SOSZNRJ12A8AE46E38</td>\n",
       "      <td>ANYONE ELSE BUT YOU</td>\n",
       "      <td>Juno - Music From The Motion Picture</td>\n",
       "      <td>Michael Cera &amp; Ellen Page</td>\n",
       "      <td>2007</td>\n",
       "      <td>b882a5b0dbd1a80533e40745be976f19d1fad5b0</td>\n",
       "      <td>1</td>\n",
       "    </tr>\n",
       "    <tr>\n",
       "      <th>4</th>\n",
       "      <td>4</td>\n",
       "      <td>SOSZNRJ12A8AE46E38</td>\n",
       "      <td>ANYONE ELSE BUT YOU</td>\n",
       "      <td>Juno - Music From The Motion Picture</td>\n",
       "      <td>Michael Cera &amp; Ellen Page</td>\n",
       "      <td>2007</td>\n",
       "      <td>2bcef2a30bd8913405971761a0e6c292d771c086</td>\n",
       "      <td>1</td>\n",
       "    </tr>\n",
       "  </tbody>\n",
       "</table>\n",
       "</div>"
      ],
      "text/plain": [
       "   index             song_id                title  \\\n",
       "0      0  SOSZNRJ12A8AE46E38  ANYONE ELSE BUT YOU   \n",
       "1      1  SOSZNRJ12A8AE46E38  ANYONE ELSE BUT YOU   \n",
       "2      2  SOSZNRJ12A8AE46E38  ANYONE ELSE BUT YOU   \n",
       "3      3  SOSZNRJ12A8AE46E38  ANYONE ELSE BUT YOU   \n",
       "4      4  SOSZNRJ12A8AE46E38  ANYONE ELSE BUT YOU   \n",
       "\n",
       "                                release                artist_name  year  \\\n",
       "0  Juno - Music From The Motion Picture  Michael Cera & Ellen Page  2007   \n",
       "1  Juno - Music From The Motion Picture  Michael Cera & Ellen Page  2007   \n",
       "2  Juno - Music From The Motion Picture  Michael Cera & Ellen Page  2007   \n",
       "3  Juno - Music From The Motion Picture  Michael Cera & Ellen Page  2007   \n",
       "4  Juno - Music From The Motion Picture  Michael Cera & Ellen Page  2007   \n",
       "\n",
       "                                    user_id  count  \n",
       "0  d6589314c0a9bcbca4fee0c93b14bc402363afea      6  \n",
       "1  484b69dd013df1ec0cfd504886d4f647cb32b08f      1  \n",
       "2  3f9ed694a79835c921ef6d94acd28f876c1d901e      4  \n",
       "3  b882a5b0dbd1a80533e40745be976f19d1fad5b0      1  \n",
       "4  2bcef2a30bd8913405971761a0e6c292d771c086      1  "
      ]
     },
     "execution_count": 10,
     "metadata": {},
     "output_type": "execute_result"
    }
   ],
   "source": [
    "dataset.head()"
   ]
  },
  {
   "cell_type": "code",
   "execution_count": 11,
   "metadata": {},
   "outputs": [
    {
     "data": {
      "text/plain": [
       "8235"
      ]
     },
     "execution_count": 11,
     "metadata": {},
     "output_type": "execute_result"
    }
   ],
   "source": [
    "# Total Number of Unique Songs\n",
    "len(dataset[\"song_id\"].unique())"
   ]
  },
  {
   "cell_type": "code",
   "execution_count": 12,
   "metadata": {},
   "outputs": [
    {
     "data": {
      "text/plain": [
       "76064"
      ]
     },
     "execution_count": 12,
     "metadata": {},
     "output_type": "execute_result"
    }
   ],
   "source": [
    "# Total Number of Unique Users\n",
    "len(dataset[\"user_id\"].unique())"
   ]
  },
  {
   "cell_type": "code",
   "execution_count": 13,
   "metadata": {},
   "outputs": [
    {
     "data": {
      "text/plain": [
       "index                                           1227669\n",
       "song_id                              SOFCGSE12AF72A674F\n",
       "title                                         STARSHINE\n",
       "release                                        Gorillaz\n",
       "artist_name                                    Gorillaz\n",
       "year                                               2000\n",
       "user_id        d13609d62db6df876d3cc388225478618bb7b912\n",
       "count                                              2213\n",
       "Name: 1200050, dtype: object"
      ]
     },
     "execution_count": 13,
     "metadata": {},
     "output_type": "execute_result"
    }
   ],
   "source": [
    "# Max Listen Count\n",
    "dataset.iloc[dataset[\"count\"].argmax()]"
   ]
  },
  {
   "cell_type": "code",
   "execution_count": 14,
   "metadata": {},
   "outputs": [],
   "source": [
    "def long_tail_plot(df, item_id_column, interaction_type, percentage=None, x_labels=True):\n",
    "    \"\"\"\n",
    "    Plots the long tail for a user-item interaction dataset.\n",
    "    \"\"\"\n",
    "    #calculate cumulative volumes\n",
    "    volume_df = pd.DataFrame(df[item_id_column].value_counts())\n",
    "    volume_df.reset_index(inplace=True)\n",
    "    volume_df.columns = [item_id_column, \"volume\"]\n",
    "    volume_df[item_id_column] = volume_df[item_id_column].astype(str)\n",
    "    volume_df['cumulative_volume'] = volume_df['volume'].cumsum()\n",
    "    volume_df['percent_of_total_volume'] = volume_df['cumulative_volume']/volume_df['volume'].sum()\n",
    "\n",
    "    #line plot of cumulative volume\n",
    "    x=range(0,len(volume_df))\n",
    "    ax = sns.lineplot(x, y=\"volume\", data=volume_df, color=\"black\")\n",
    "    plt.xticks(x)\n",
    "\n",
    "    #set labels\n",
    "    ax.set_title('Long Tail Plot')\n",
    "    ax.set_ylabel(interaction_type)\n",
    "    ax.set_xlabel(item_id_column)\n",
    "\n",
    "    if percentage != None:\n",
    "        #plot vertical line at the tail location\n",
    "        head = volume_df[volume_df.percent_of_total_volume <= percentage]\n",
    "        tail = volume_df[volume_df.percent_of_total_volume > percentage]\n",
    "        items_in_head = len(head)\n",
    "        items_in_tail = len(tail)\n",
    "        plt.axvline(x=items_in_head, color=\"red\",  linestyle='--')\n",
    "\n",
    "        # fill area under plot\n",
    "        head = head.append(tail.head(1))\n",
    "        x1 = head.index.values\n",
    "        y1 = head['volume']\n",
    "        x2 = tail.index.values\n",
    "        y2 = tail['volume']\n",
    "        ax.fill_between(x1, y1, color=\"blue\", alpha=0.2)\n",
    "        ax.fill_between(x2, y2,  color=\"orange\", alpha=0.2)\n",
    "\n",
    "        #create legend\n",
    "        legend_elements = [Line2D([0], [0], marker='o', color='w', label=str(items_in_head)+': items in the head', markerfacecolor='blue', markersize=5),\n",
    "                           Line2D([0], [0], marker='o', color='w', label=str(items_in_tail)+': items in the tail', markerfacecolor='orange', markersize=5)]\n",
    "        ax.legend(handles=legend_elements, loc=1)\n",
    "\n",
    "    else:\n",
    "        x1 = volume_df[item_id_column]\n",
    "        y1 = volume_df['volume']\n",
    "        ax.fill_between(x1, y1, color=\"blue\", alpha=0.3)\n",
    "    if x_labels == False:\n",
    "        plt.xticks([], [])\n",
    "        ax.set(xticklabels=[])\n",
    "    else:\n",
    "        ax.set_xticklabels(labels = volume_df[item_id_column], rotation = 45, ha=\"right\")\n",
    "\n",
    "    plt.show()"
   ]
  },
  {
   "cell_type": "code",
   "execution_count": 15,
   "metadata": {},
   "outputs": [],
   "source": [
    "class popularity_based() :\n",
    "    \"\"\" \n",
    "    Polularity based Filtering class\n",
    "    It consist of three types of filtering methods\n",
    "    1. Frequency/Listen Count based filtering method\n",
    "    2. Unique user count based filtering method\n",
    "    3. hybrid popularity based filtering method\n",
    "    \"\"\"\n",
    "    def __init__(self) :\n",
    "        self.trainingData=None        \n",
    "    \n",
    "    # Frequency/Listen Count based filtering method\n",
    "    def popularity_frequency(self,data,recom,start=1900,end=datetime.now().year):\n",
    "        self.trainingData = data\n",
    "        self.trainingData = self.trainingData.groupby([\"song_id\",'title',\"year\"])['count'].sum().reset_index()\n",
    "        self.trainingData = self.trainingData.drop_duplicates(subset=[\"song_id\"],keep=\"first\")\n",
    "        self.trainingData.sort_values(by=\"count\",ascending=False,inplace=True)\n",
    "    \n",
    "        popularity_based.plotGraph(self.trainingData[['count','title']],'Frequency')\n",
    "        return self.trainingData[(self.trainingData['year']>=start) & (self.trainingData['year']<=end)][['title','year']].rename(columns={\"title\":\"Recommendations\",\"year\":\"Year\"}).head(recom).reset_index(drop=True)\n",
    "    \n",
    "    # Unique user count based filtering method\n",
    "    def popularity_users(self,data,recom,start=1900,end=datetime.now().year):\n",
    "        self.trainingData = data\n",
    "        self.trainingData=self.trainingData.groupby([\"song_id\",\"title\",\"year\"])['user_id'].count().reset_index()\n",
    "        self.trainingData.rename(columns={\"user_id\":\"unique_users\"},inplace=True)\n",
    "        self.trainingData=self.trainingData.drop_duplicates(subset=[\"song_id\"],keep=\"first\")\n",
    "        self.trainingData.sort_values(by=\"unique_users\",ascending=False,inplace=True)\n",
    "        \n",
    "        popularity_based.plotGraph(self.trainingData[['unique_users','title']],'User')\n",
    "        return self.trainingData[(self.trainingData['year']>=start) & (self.trainingData['year']<=end)][['title','year']].rename(columns={\"title\":\"Recommendations\",\"year\":\"Year\"}).head(recom).reset_index(drop=True)\n",
    "    # hybrid popularity based filtering method\n",
    "    def popularity_users_frequency(self,data,recom,start=1900, end=datetime.now().year) :\n",
    "        self.trainingData=data\n",
    "        self.trainingData =  self.trainingData.groupby([\"song_id\",'title','year'])['count'].agg(['sum','count']).reset_index()\n",
    "        scaler=MinMaxScaler()\n",
    "        self.trainingData[[\"sum\",'count']] = scaler.fit_transform(self.trainingData[[\"sum\",'count']])\n",
    "        self.trainingData['score'] = 0.5*self.trainingData['count']+0.5*self.trainingData['sum']\n",
    "        self.trainingData.sort_values(by = 'score',ascending=False,inplace=True)\n",
    "        \n",
    "        popularity_based.plotGraph(self.trainingData[['score','title']],'Frequency And Users')\n",
    "        return self.trainingData[(self.trainingData['year']>=start) & (self.trainingData['year']<=end)][['title','year']].rename(columns={\"title\":\"Recommendations\",\"year\":\"Year\"}).head(recom).reset_index(drop=True)\n",
    "    \n",
    "    # Method to plot the recommendations\n",
    "    def plotGraph(data,name):\n",
    "        data_plot=data\n",
    "        plt.figure(figsize=(12,6))\n",
    "        axis1=sns.barplot(x=data_plot.iloc[:,0].head(10), y=data_plot.iloc[:,1].head(10), data=data_plot)\n",
    "        plt.title('Best Songs by {}'.format(name), weight='bold')\n",
    "        plt.xlabel('{}'.format(name), weight='bold')\n",
    "        plt.ylabel('Song Title', weight='bold')\n",
    "        plt.show()\n",
    "\n",
    "    "
   ]
  },
  {
   "cell_type": "code",
   "execution_count": 16,
   "metadata": {},
   "outputs": [],
   "source": [
    "# Creation of Model\n",
    "p =  popularity_based()"
   ]
  },
  {
   "cell_type": "code",
   "execution_count": 17,
   "metadata": {},
   "outputs": [
    {
     "data": {
      "image/png": "[encoded data removed]",
      "text/plain": [
       "<Figure size 864x432 with 1 Axes>"
      ]
     },
     "metadata": {
      "needs_background": "light"
     },
     "output_type": "display_data"
    },
    {
     "data": {
      "text/html": [
       "<div>\n",
       "<style scoped>\n",
       "    .dataframe tbody tr th:only-of-type {\n",
       "        vertical-align: middle;\n",
       "    }\n",
       "\n",
       "    .dataframe tbody tr th {\n",
       "        vertical-align: top;\n",
       "    }\n",
       "\n",
       "    .dataframe thead th {\n",
       "        text-align: right;\n",
       "    }\n",
       "</style>\n",
       "<table border=\"1\" class=\"dataframe\">\n",
       "  <thead>\n",
       "    <tr style=\"text-align: right;\">\n",
       "      <th></th>\n",
       "      <th>Recommendations</th>\n",
       "      <th>Year</th>\n",
       "    </tr>\n",
       "  </thead>\n",
       "  <tbody>\n",
       "    <tr>\n",
       "      <th>0</th>\n",
       "      <td>YOU'RE THE ONE</td>\n",
       "      <td>1990</td>\n",
       "    </tr>\n",
       "    <tr>\n",
       "      <th>1</th>\n",
       "      <td>UNDO</td>\n",
       "      <td>2001</td>\n",
       "    </tr>\n",
       "    <tr>\n",
       "      <th>2</th>\n",
       "      <td>REVELRY</td>\n",
       "      <td>2008</td>\n",
       "    </tr>\n",
       "    <tr>\n",
       "      <th>3</th>\n",
       "      <td>USE SOMEBODY</td>\n",
       "      <td>2008</td>\n",
       "    </tr>\n",
       "    <tr>\n",
       "      <th>4</th>\n",
       "      <td>SECRETS</td>\n",
       "      <td>2009</td>\n",
       "    </tr>\n",
       "    <tr>\n",
       "      <th>5</th>\n",
       "      <td>INVALID</td>\n",
       "      <td>2002</td>\n",
       "    </tr>\n",
       "    <tr>\n",
       "      <th>6</th>\n",
       "      <td>REPRÉSENTE</td>\n",
       "      <td>1999</td>\n",
       "    </tr>\n",
       "    <tr>\n",
       "      <th>7</th>\n",
       "      <td>SOMEBODY TO LOVE</td>\n",
       "      <td>2010</td>\n",
       "    </tr>\n",
       "    <tr>\n",
       "      <th>8</th>\n",
       "      <td>YELLOW</td>\n",
       "      <td>2000</td>\n",
       "    </tr>\n",
       "    <tr>\n",
       "      <th>9</th>\n",
       "      <td>FIREFLIES</td>\n",
       "      <td>2009</td>\n",
       "    </tr>\n",
       "    <tr>\n",
       "      <th>10</th>\n",
       "      <td>THE GIFT</td>\n",
       "      <td>2006</td>\n",
       "    </tr>\n",
       "    <tr>\n",
       "      <th>11</th>\n",
       "      <td>TIVE SIM</td>\n",
       "      <td>1974</td>\n",
       "    </tr>\n",
       "    <tr>\n",
       "      <th>12</th>\n",
       "      <td>LOVE STORY</td>\n",
       "      <td>2008</td>\n",
       "    </tr>\n",
       "    <tr>\n",
       "      <th>13</th>\n",
       "      <td>MARRY ME</td>\n",
       "      <td>2009</td>\n",
       "    </tr>\n",
       "    <tr>\n",
       "      <th>14</th>\n",
       "      <td>MAKE LOVE TO YOUR MIND</td>\n",
       "      <td>1975</td>\n",
       "    </tr>\n",
       "  </tbody>\n",
       "</table>\n",
       "</div>"
      ],
      "text/plain": [
       "           Recommendations  Year\n",
       "0           YOU'RE THE ONE  1990\n",
       "1                     UNDO  2001\n",
       "2                  REVELRY  2008\n",
       "3             USE SOMEBODY  2008\n",
       "4                  SECRETS  2009\n",
       "5                  INVALID  2002\n",
       "6               REPRÉSENTE  1999\n",
       "7         SOMEBODY TO LOVE  2010\n",
       "8                   YELLOW  2000\n",
       "9                FIREFLIES  2009\n",
       "10                THE GIFT  2006\n",
       "11                TIVE SIM  1974\n",
       "12              LOVE STORY  2008\n",
       "13                MARRY ME  2009\n",
       "14  MAKE LOVE TO YOUR MIND  1975"
      ]
     },
     "execution_count": 17,
     "metadata": {},
     "output_type": "execute_result"
    }
   ],
   "source": [
    "# Frequency Based Popularity Model\n",
    "p.popularity_frequency(dataset,15)"
   ]
  },
  {
   "cell_type": "code",
   "execution_count": 18,
   "metadata": {},
   "outputs": [
    {
     "data": {
      "image/png": "[encoded data removed]",
      "text/plain": [
       "<Figure size 864x432 with 1 Axes>"
      ]
     },
     "metadata": {
      "needs_background": "light"
     },
     "output_type": "display_data"
    },
    {
     "data": {
      "text/html": [
       "<div>\n",
       "<style scoped>\n",
       "    .dataframe tbody tr th:only-of-type {\n",
       "        vertical-align: middle;\n",
       "    }\n",
       "\n",
       "    .dataframe tbody tr th {\n",
       "        vertical-align: top;\n",
       "    }\n",
       "\n",
       "    .dataframe thead th {\n",
       "        text-align: right;\n",
       "    }\n",
       "</style>\n",
       "<table border=\"1\" class=\"dataframe\">\n",
       "  <thead>\n",
       "    <tr style=\"text-align: right;\">\n",
       "      <th></th>\n",
       "      <th>Recommendations</th>\n",
       "      <th>Year</th>\n",
       "    </tr>\n",
       "  </thead>\n",
       "  <tbody>\n",
       "    <tr>\n",
       "      <th>0</th>\n",
       "      <td>USE SOMEBODY</td>\n",
       "      <td>2008</td>\n",
       "    </tr>\n",
       "    <tr>\n",
       "      <th>1</th>\n",
       "      <td>UNDO</td>\n",
       "      <td>2001</td>\n",
       "    </tr>\n",
       "    <tr>\n",
       "      <th>2</th>\n",
       "      <td>YOU'RE THE ONE</td>\n",
       "      <td>1990</td>\n",
       "    </tr>\n",
       "    <tr>\n",
       "      <th>3</th>\n",
       "      <td>REVELRY</td>\n",
       "      <td>2008</td>\n",
       "    </tr>\n",
       "    <tr>\n",
       "      <th>4</th>\n",
       "      <td>SECRETS</td>\n",
       "      <td>2009</td>\n",
       "    </tr>\n",
       "    <tr>\n",
       "      <th>5</th>\n",
       "      <td>YELLOW</td>\n",
       "      <td>2000</td>\n",
       "    </tr>\n",
       "    <tr>\n",
       "      <th>6</th>\n",
       "      <td>SOMEBODY TO LOVE</td>\n",
       "      <td>2010</td>\n",
       "    </tr>\n",
       "    <tr>\n",
       "      <th>7</th>\n",
       "      <td>LOVE STORY</td>\n",
       "      <td>2008</td>\n",
       "    </tr>\n",
       "    <tr>\n",
       "      <th>8</th>\n",
       "      <td>FIREFLIES</td>\n",
       "      <td>2009</td>\n",
       "    </tr>\n",
       "    <tr>\n",
       "      <th>9</th>\n",
       "      <td>TIVE SIM</td>\n",
       "      <td>1974</td>\n",
       "    </tr>\n",
       "    <tr>\n",
       "      <th>10</th>\n",
       "      <td>OMG</td>\n",
       "      <td>2010</td>\n",
       "    </tr>\n",
       "    <tr>\n",
       "      <th>11</th>\n",
       "      <td>DON'T STOP THE MUSIC</td>\n",
       "      <td>2007</td>\n",
       "    </tr>\n",
       "    <tr>\n",
       "      <th>12</th>\n",
       "      <td>MARRY ME</td>\n",
       "      <td>2009</td>\n",
       "    </tr>\n",
       "    <tr>\n",
       "      <th>13</th>\n",
       "      <td>THE SCIENTIST</td>\n",
       "      <td>2002</td>\n",
       "    </tr>\n",
       "    <tr>\n",
       "      <th>14</th>\n",
       "      <td>PURSUIT OF HAPPINESS (NIGHTMARE)</td>\n",
       "      <td>2010</td>\n",
       "    </tr>\n",
       "  </tbody>\n",
       "</table>\n",
       "</div>"
      ],
      "text/plain": [
       "                     Recommendations  Year\n",
       "0                       USE SOMEBODY  2008\n",
       "1                               UNDO  2001\n",
       "2                     YOU'RE THE ONE  1990\n",
       "3                            REVELRY  2008\n",
       "4                            SECRETS  2009\n",
       "5                             YELLOW  2000\n",
       "6                   SOMEBODY TO LOVE  2010\n",
       "7                         LOVE STORY  2008\n",
       "8                          FIREFLIES  2009\n",
       "9                           TIVE SIM  1974\n",
       "10                               OMG  2010\n",
       "11              DON'T STOP THE MUSIC  2007\n",
       "12                          MARRY ME  2009\n",
       "13                     THE SCIENTIST  2002\n",
       "14  PURSUIT OF HAPPINESS (NIGHTMARE)  2010"
      ]
     },
     "execution_count": 18,
     "metadata": {},
     "output_type": "execute_result"
    }
   ],
   "source": [
    "# Unique User Based Popularity Model\n",
    "p.popularity_users(dataset,15)"
   ]
  },
  {
   "cell_type": "code",
   "execution_count": 19,
   "metadata": {
    "scrolled": true
   },
   "outputs": [
    {
     "data": {
      "image/png": "[encoded data removed]",
      "text/plain": [
       "<Figure size 864x432 with 1 Axes>"
      ]
     },
     "metadata": {
      "needs_background": "light"
     },
     "output_type": "display_data"
    },
    {
     "data": {
      "text/html": [
       "<div>\n",
       "<style scoped>\n",
       "    .dataframe tbody tr th:only-of-type {\n",
       "        vertical-align: middle;\n",
       "    }\n",
       "\n",
       "    .dataframe tbody tr th {\n",
       "        vertical-align: top;\n",
       "    }\n",
       "\n",
       "    .dataframe thead th {\n",
       "        text-align: right;\n",
       "    }\n",
       "</style>\n",
       "<table border=\"1\" class=\"dataframe\">\n",
       "  <thead>\n",
       "    <tr style=\"text-align: right;\">\n",
       "      <th></th>\n",
       "      <th>Recommendations</th>\n",
       "      <th>Year</th>\n",
       "    </tr>\n",
       "  </thead>\n",
       "  <tbody>\n",
       "    <tr>\n",
       "      <th>0</th>\n",
       "      <td>YOU'RE THE ONE</td>\n",
       "      <td>1990</td>\n",
       "    </tr>\n",
       "    <tr>\n",
       "      <th>1</th>\n",
       "      <td>UNDO</td>\n",
       "      <td>2001</td>\n",
       "    </tr>\n",
       "    <tr>\n",
       "      <th>2</th>\n",
       "      <td>REVELRY</td>\n",
       "      <td>2008</td>\n",
       "    </tr>\n",
       "    <tr>\n",
       "      <th>3</th>\n",
       "      <td>USE SOMEBODY</td>\n",
       "      <td>2008</td>\n",
       "    </tr>\n",
       "    <tr>\n",
       "      <th>4</th>\n",
       "      <td>SECRETS</td>\n",
       "      <td>2009</td>\n",
       "    </tr>\n",
       "    <tr>\n",
       "      <th>5</th>\n",
       "      <td>SOMEBODY TO LOVE</td>\n",
       "      <td>2010</td>\n",
       "    </tr>\n",
       "    <tr>\n",
       "      <th>6</th>\n",
       "      <td>YELLOW</td>\n",
       "      <td>2000</td>\n",
       "    </tr>\n",
       "    <tr>\n",
       "      <th>7</th>\n",
       "      <td>FIREFLIES</td>\n",
       "      <td>2009</td>\n",
       "    </tr>\n",
       "    <tr>\n",
       "      <th>8</th>\n",
       "      <td>LOVE STORY</td>\n",
       "      <td>2008</td>\n",
       "    </tr>\n",
       "    <tr>\n",
       "      <th>9</th>\n",
       "      <td>TIVE SIM</td>\n",
       "      <td>1974</td>\n",
       "    </tr>\n",
       "  </tbody>\n",
       "</table>\n",
       "</div>"
      ],
      "text/plain": [
       "    Recommendations  Year\n",
       "0    YOU'RE THE ONE  1990\n",
       "1              UNDO  2001\n",
       "2           REVELRY  2008\n",
       "3      USE SOMEBODY  2008\n",
       "4           SECRETS  2009\n",
       "5  SOMEBODY TO LOVE  2010\n",
       "6            YELLOW  2000\n",
       "7         FIREFLIES  2009\n",
       "8        LOVE STORY  2008\n",
       "9          TIVE SIM  1974"
      ]
     },
     "execution_count": 19,
     "metadata": {},
     "output_type": "execute_result"
    }
   ],
   "source": [
    "# Hybrid Popularity Model\n",
    "p.popularity_users_frequency(dataset,10)"
   ]
  },
  {
   "cell_type": "code",
   "execution_count": 20,
   "metadata": {},
   "outputs": [
    {
     "data": {
      "image/png": "[encoded data removed]",
      "text/plain": [
       "<Figure size 432x288 with 1 Axes>"
      ]
     },
     "metadata": {
      "needs_background": "light"
     },
     "output_type": "display_data"
    }
   ],
   "source": [
    "# Count of Unique Listeners vs songs\n",
    "long_tail_plot(dataset,'song_id','Count of Unique Listeners', 0.3 , False)"
   ]
  }
 ],
 "metadata": {
  "kernelspec": {
   "display_name": "Python 3",
   "language": "python",
   "name": "python3"
  },
  "language_info": {
   "codemirror_mode": {
    "name": "ipython",
    "version": 3
   },
   "file_extension": ".py",
   "mimetype": "text/x-python",
   "name": "python",
   "nbconvert_exporter": "python",
   "pygments_lexer": "ipython3",
   "version": "3.7.2"
  }
 },
 "nbformat": 4,
 "nbformat_minor": 4
}
